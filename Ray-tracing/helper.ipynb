{
 "cells": [
  {
   "cell_type": "code",
   "execution_count": 1,
   "metadata": {},
   "outputs": [
    {
     "name": "stdout",
     "output_type": "stream",
     "text": [
      "Copied: ./plane.cpp -> ./cpp_files/plane.cpp\n",
      "Copied: ./phong_shader.cpp -> ./cpp_files/phong_shader.cpp\n",
      "Copied: ./flat_shader.cpp -> ./cpp_files/flat_shader.cpp\n",
      "Copied: ./reflective_shader.cpp -> ./cpp_files/reflective_shader.cpp\n",
      "Copied: ./dump_png.cpp -> ./cpp_files/dump_png.cpp\n",
      "Copied: ./transparent_shader.cpp -> ./cpp_files/transparent_shader.cpp\n",
      "Copied: ./acceleration.cpp -> ./cpp_files/acceleration.cpp\n",
      "Copied: ./sphere.cpp -> ./cpp_files/sphere.cpp\n",
      "Copied: ./mesh.cpp -> ./cpp_files/mesh.cpp\n",
      "Copied: ./registration.cpp -> ./cpp_files/registration.cpp\n",
      "Copied: ./render_world.cpp -> ./cpp_files/render_world.cpp\n",
      "Copied: ./box.cpp -> ./cpp_files/box.cpp\n",
      "Copied: ./main.cpp -> ./cpp_files/main.cpp\n",
      "Copied: ./texture.cpp -> ./cpp_files/texture.cpp\n",
      "Copied: ./camera.cpp -> ./cpp_files/camera.cpp\n",
      "Copied: ./point_light.cpp -> ./cpp_files/point_light.cpp\n",
      "Copied: ./parse.cpp -> ./cpp_files/parse.cpp\n",
      "Copied: ./graphics/lib/python3.10/site-packages/debugpy/_vendored/pydevd/pydevd_attach_to_process/windows/inject_dll.cpp -> ./cpp_files/inject_dll.cpp\n",
      "Copied: ./graphics/lib/python3.10/site-packages/debugpy/_vendored/pydevd/pydevd_attach_to_process/windows/stdafx.cpp -> ./cpp_files/stdafx.cpp\n",
      "Copied: ./graphics/lib/python3.10/site-packages/debugpy/_vendored/pydevd/pydevd_attach_to_process/windows/attach.cpp -> ./cpp_files/attach.cpp\n",
      "Copied: ./graphics/lib/python3.10/site-packages/debugpy/_vendored/pydevd/pydevd_attach_to_process/windows/run_code_on_dllmain.cpp -> ./cpp_files/run_code_on_dllmain.cpp\n",
      "Copied: ./graphics/lib/python3.10/site-packages/debugpy/_vendored/pydevd/pydevd_attach_to_process/linux_and_mac/attach.cpp -> ./cpp_files/attach.cpp\n",
      "Copied: ./grading/box.cpp -> ./cpp_files/box.cpp\n",
      "Copied: ./grading/camera.cpp -> ./cpp_files/camera.cpp\n",
      "Copied: ./grading/flat_shader.cpp -> ./cpp_files/flat_shader.cpp\n",
      "Copied: ./grading/plane.cpp -> ./cpp_files/plane.cpp\n",
      "Copied: ./grading/phong_shader.cpp -> ./cpp_files/phong_shader.cpp\n",
      "Copied: ./grading/dump_png.cpp -> ./cpp_files/dump_png.cpp\n",
      "Copied: ./grading/sphere.cpp -> ./cpp_files/sphere.cpp\n",
      "Copied: ./grading/mesh.cpp -> ./cpp_files/mesh.cpp\n",
      "Copied: ./grading/reflective_shader.cpp -> ./cpp_files/reflective_shader.cpp\n",
      "Copied: ./grading/render_world.cpp -> ./cpp_files/render_world.cpp\n",
      "Copied: ./grading/registration.cpp -> ./cpp_files/registration.cpp\n",
      "Copied: ./grading/parse.cpp -> ./cpp_files/parse.cpp\n",
      "Copied: ./grading/texture.cpp -> ./cpp_files/texture.cpp\n",
      "Copied: ./grading/main.cpp -> ./cpp_files/main.cpp\n",
      "Copied: ./grading/point_light.cpp -> ./cpp_files/point_light.cpp\n",
      "Copied: ./grading/transparent_shader.cpp -> ./cpp_files/transparent_shader.cpp\n",
      "Copied: ./grading/acceleration.cpp -> ./cpp_files/acceleration.cpp\n"
     ]
    },
    {
     "ename": "SameFileError",
     "evalue": "'./cpp_files/transparent_shader.cpp' and './cpp_files/transparent_shader.cpp' are the same file",
     "output_type": "error",
     "traceback": [
      "\u001b[0;31m---------------------------------------------------------------------------\u001b[0m",
      "\u001b[0;31mSameFileError\u001b[0m                             Traceback (most recent call last)",
      "Cell \u001b[0;32mIn[1], line 24\u001b[0m\n\u001b[1;32m     21\u001b[0m source_directory \u001b[38;5;241m=\u001b[39m \u001b[38;5;124m\"\u001b[39m\u001b[38;5;124m./\u001b[39m\u001b[38;5;124m\"\u001b[39m\n\u001b[1;32m     22\u001b[0m destination_directory \u001b[38;5;241m=\u001b[39m \u001b[38;5;124m\"\u001b[39m\u001b[38;5;124m./cpp_files\u001b[39m\u001b[38;5;124m\"\u001b[39m\n\u001b[0;32m---> 24\u001b[0m \u001b[43mcopy_cpp_files\u001b[49m\u001b[43m(\u001b[49m\u001b[43msource_directory\u001b[49m\u001b[43m,\u001b[49m\u001b[43m \u001b[49m\u001b[43mdestination_directory\u001b[49m\u001b[43m)\u001b[49m\n",
      "Cell \u001b[0;32mIn[1], line 17\u001b[0m, in \u001b[0;36mcopy_cpp_files\u001b[0;34m(source_dir, destination_dir)\u001b[0m\n\u001b[1;32m     14\u001b[0m destination_file \u001b[38;5;241m=\u001b[39m os\u001b[38;5;241m.\u001b[39mpath\u001b[38;5;241m.\u001b[39mjoin(destination_dir, file)\n\u001b[1;32m     16\u001b[0m \u001b[38;5;66;03m# Copy the file to the destination directory\u001b[39;00m\n\u001b[0;32m---> 17\u001b[0m \u001b[43mshutil\u001b[49m\u001b[38;5;241;43m.\u001b[39;49m\u001b[43mcopy2\u001b[49m\u001b[43m(\u001b[49m\u001b[43msource_file\u001b[49m\u001b[43m,\u001b[49m\u001b[43m \u001b[49m\u001b[43mdestination_file\u001b[49m\u001b[43m)\u001b[49m\n\u001b[1;32m     18\u001b[0m \u001b[38;5;28mprint\u001b[39m(\u001b[38;5;124mf\u001b[39m\u001b[38;5;124m\"\u001b[39m\u001b[38;5;124mCopied: \u001b[39m\u001b[38;5;132;01m{\u001b[39;00msource_file\u001b[38;5;132;01m}\u001b[39;00m\u001b[38;5;124m -> \u001b[39m\u001b[38;5;132;01m{\u001b[39;00mdestination_file\u001b[38;5;132;01m}\u001b[39;00m\u001b[38;5;124m\"\u001b[39m)\n",
      "File \u001b[0;32m/usr/lib/python3.10/shutil.py:434\u001b[0m, in \u001b[0;36mcopy2\u001b[0;34m(src, dst, follow_symlinks)\u001b[0m\n\u001b[1;32m    432\u001b[0m \u001b[38;5;28;01mif\u001b[39;00m os\u001b[38;5;241m.\u001b[39mpath\u001b[38;5;241m.\u001b[39misdir(dst):\n\u001b[1;32m    433\u001b[0m     dst \u001b[38;5;241m=\u001b[39m os\u001b[38;5;241m.\u001b[39mpath\u001b[38;5;241m.\u001b[39mjoin(dst, os\u001b[38;5;241m.\u001b[39mpath\u001b[38;5;241m.\u001b[39mbasename(src))\n\u001b[0;32m--> 434\u001b[0m \u001b[43mcopyfile\u001b[49m\u001b[43m(\u001b[49m\u001b[43msrc\u001b[49m\u001b[43m,\u001b[49m\u001b[43m \u001b[49m\u001b[43mdst\u001b[49m\u001b[43m,\u001b[49m\u001b[43m \u001b[49m\u001b[43mfollow_symlinks\u001b[49m\u001b[38;5;241;43m=\u001b[39;49m\u001b[43mfollow_symlinks\u001b[49m\u001b[43m)\u001b[49m\n\u001b[1;32m    435\u001b[0m copystat(src, dst, follow_symlinks\u001b[38;5;241m=\u001b[39mfollow_symlinks)\n\u001b[1;32m    436\u001b[0m \u001b[38;5;28;01mreturn\u001b[39;00m dst\n",
      "File \u001b[0;32m/usr/lib/python3.10/shutil.py:234\u001b[0m, in \u001b[0;36mcopyfile\u001b[0;34m(src, dst, follow_symlinks)\u001b[0m\n\u001b[1;32m    231\u001b[0m sys\u001b[38;5;241m.\u001b[39maudit(\u001b[38;5;124m\"\u001b[39m\u001b[38;5;124mshutil.copyfile\u001b[39m\u001b[38;5;124m\"\u001b[39m, src, dst)\n\u001b[1;32m    233\u001b[0m \u001b[38;5;28;01mif\u001b[39;00m _samefile(src, dst):\n\u001b[0;32m--> 234\u001b[0m     \u001b[38;5;28;01mraise\u001b[39;00m SameFileError(\u001b[38;5;124m\"\u001b[39m\u001b[38;5;132;01m{!r}\u001b[39;00m\u001b[38;5;124m and \u001b[39m\u001b[38;5;132;01m{!r}\u001b[39;00m\u001b[38;5;124m are the same file\u001b[39m\u001b[38;5;124m\"\u001b[39m\u001b[38;5;241m.\u001b[39mformat(src, dst))\n\u001b[1;32m    236\u001b[0m file_size \u001b[38;5;241m=\u001b[39m \u001b[38;5;241m0\u001b[39m\n\u001b[1;32m    237\u001b[0m \u001b[38;5;28;01mfor\u001b[39;00m i, fn \u001b[38;5;129;01min\u001b[39;00m \u001b[38;5;28menumerate\u001b[39m([src, dst]):\n",
      "\u001b[0;31mSameFileError\u001b[0m: './cpp_files/transparent_shader.cpp' and './cpp_files/transparent_shader.cpp' are the same file"
     ]
    }
   ],
   "source": [
    "import os\n",
    "import shutil\n",
    "\n",
    "def copy_cpp_files(source_dir, destination_dir):\n",
    "    # Ensure the destination directory exists\n",
    "    os.makedirs(destination_dir, exist_ok=True)\n",
    "    \n",
    "    # Iterate through files in the source directory\n",
    "    for root, _, files in os.walk(source_dir):\n",
    "        for file in files:\n",
    "            # Check if the file has a .cpp extension\n",
    "            if file.endswith(\".cpp\"):\n",
    "                source_file = os.path.join(root, file)\n",
    "                destination_file = os.path.join(destination_dir, file)\n",
    "                \n",
    "                # Copy the file to the destination directory\n",
    "                shutil.copy2(source_file, destination_file)\n",
    "                print(f\"Copied: {source_file} -> {destination_file}\")\n",
    "\n",
    "# Replace these with your source and destination paths\n",
    "source_directory = \"./\"\n",
    "destination_directory = \"./cpp_files\"\n",
    "\n",
    "copy_cpp_files(source_directory, destination_directory)\n"
   ]
  },
  {
   "cell_type": "code",
   "execution_count": null,
   "metadata": {},
   "outputs": [],
   "source": []
  }
 ],
 "metadata": {
  "kernelspec": {
   "display_name": "graphics",
   "language": "python",
   "name": "python3"
  },
  "language_info": {
   "codemirror_mode": {
    "name": "ipython",
    "version": 3
   },
   "file_extension": ".py",
   "mimetype": "text/x-python",
   "name": "python",
   "nbconvert_exporter": "python",
   "pygments_lexer": "ipython3",
   "version": "3.10.12"
  }
 },
 "nbformat": 4,
 "nbformat_minor": 2
}
